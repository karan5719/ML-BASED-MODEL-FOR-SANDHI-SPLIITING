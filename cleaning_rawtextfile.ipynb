{
 "cells": [
  {
   "cell_type": "code",
   "execution_count": 11,
   "id": "7b93ab1e-c7d4-4064-b5c6-2b3bf0916406",
   "metadata": {},
   "outputs": [
    {
     "name": "stdout",
     "output_type": "stream",
     "text": [
      "Symbols removed and new file saved as 'cleaned_file.txt'.\n"
     ]
    }
   ],
   "source": [
    "# Read the file\n",
    "with open(\"sandhiset.txt\", \"r\", encoding=\"utf-8\") as file:\n",
    "    text = file.read()\n",
    "\n",
    "# List of symbols to remove\n",
    "symbols_to_remove = [\n",
    "    \"।\", \"॥\", \"|\", \"!\", \"%\", \"&\", \"*\", \"?\", \"/\", \",\"]\n",
    "\n",
    "# Remove all unwanted symbols\n",
    "for symbol in symbols_to_remove:\n",
    "    text = text.replace(symbol, '')\n",
    "\n",
    "# Remove English and Devanagari numbers\n",
    "import re\n",
    "text = re.sub(r'[0-9a-zA-Z०-९]', '', text)\n",
    "\n",
    "# Save the cleaned text\n",
    "with open(\"cleaned_file.txt\", \"w\", encoding=\"utf-8\") as file:\n",
    "    file.write(text)\n",
    "\n",
    "print(\"Symbols removed and new file saved as 'cleaned_file.txt'.\")\n"
   ]
  },
  {
   "cell_type": "code",
   "execution_count": null,
   "id": "4b6ec4e5-c43b-4efb-842b-04e4415867a0",
   "metadata": {},
   "outputs": [],
   "source": []
  }
 ],
 "metadata": {
  "kernelspec": {
   "display_name": "Python [conda env:base] *",
   "language": "python",
   "name": "conda-base-py"
  },
  "language_info": {
   "codemirror_mode": {
    "name": "ipython",
    "version": 3
   },
   "file_extension": ".py",
   "mimetype": "text/x-python",
   "name": "python",
   "nbconvert_exporter": "python",
   "pygments_lexer": "ipython3",
   "version": "3.12.7"
  }
 },
 "nbformat": 4,
 "nbformat_minor": 5
}
